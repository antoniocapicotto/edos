{
 "cells": [
  {
   "cell_type": "markdown",
   "metadata": {},
   "source": [
    "1. EXPLORATIVE DATA ANALYSIS"
   ]
  },
  {
   "cell_type": "markdown",
   "metadata": {},
   "source": [
    "IMPORTING LIBRARIES"
   ]
  },
  {
   "cell_type": "code",
   "execution_count": null,
   "metadata": {},
   "outputs": [],
   "source": [
    "# Data exploration\n",
    "import pandas as pd\n",
    "import matplotlib.pyplot as plt\n",
    "import numpy as np\n",
    "\n",
    "# Text processing\n",
    "import nltk\n",
    "nltk.download('punkt')\n",
    "nltk.download('stopwords')\n",
    "nltk.download('wordnet')\n",
    "import re\n",
    "from nltk import word_tokenize\n",
    "from nltk.corpus import stopwords\n",
    "from nltk.stem import PorterStemmer\n",
    "from nltk.stem import WordNetLemmatizer\n",
    "\n",
    "# Machine learning\n",
    "from sklearn.feature_extraction.text import TfidfVectorizer\n",
    "from sklearn.linear_model import LogisticRegression\n",
    "from sklearn.model_selection import train_test_split\n",
    "from sklearn.metrics import accuracy_score, precision_score, recall_score, f1_score, confusion_matrix\n",
    "\n"
   ]
  },
  {
   "cell_type": "markdown",
   "metadata": {},
   "source": [
    "DATA LOADING"
   ]
  },
  {
   "cell_type": "code",
   "execution_count": null,
   "metadata": {},
   "outputs": [],
   "source": [
    "df = pd.read_csv('edos_labelled_aggregated.csv')"
   ]
  },
  {
   "cell_type": "markdown",
   "metadata": {},
   "source": [
    "DATA CLEANING"
   ]
  },
  {
   "cell_type": "code",
   "execution_count": null,
   "metadata": {},
   "outputs": [],
   "source": [
    "df = df.drop(columns=[\"label_category\",\"label_vector\"])\n",
    "df = df.drop_duplicates()\n",
    "df = df.dropna(subset=['text'])"
   ]
  },
  {
   "cell_type": "markdown",
   "metadata": {},
   "source": [
    "DATA VISUALIZATION"
   ]
  },
  {
   "cell_type": "code",
   "execution_count": null,
   "metadata": {},
   "outputs": [],
   "source": [
    "df.head(10)"
   ]
  },
  {
   "cell_type": "code",
   "execution_count": null,
   "metadata": {},
   "outputs": [],
   "source": [
    "count = df['label_sexist'].value_counts()\n",
    "labels = [\"sexist\", \"not sexist\"]\n",
    "sizes = [count.get('sexist', 0), count.get('not sexist', 0)]\n",
    "colors = ['red', 'blue']\n",
    "\n",
    "fig, axs = plt.subplots(1, 2, figsize=(18, 6))\n",
    "\n",
    "axs[0].pie(count,labels=labels, autopct='%1.2f%%')\n",
    "axs[1].bar(labels, sizes, color=colors)\n",
    "\n",
    "plt.show()"
   ]
  },
  {
   "cell_type": "markdown",
   "metadata": {},
   "source": [
    "2. PRE-PROCESSING"
   ]
  },
  {
   "cell_type": "code",
   "execution_count": null,
   "metadata": {},
   "outputs": [],
   "source": [
    "# cleaning with regex\n",
    "\n",
    "def clean_text(sentence):\n",
    "    # Convertire il testo in minuscolo\n",
    "    sentence = sentence.lower()\n",
    "    # Rimuovere le menzioni (@username)\n",
    "    sentence = re.sub(r'@\\w+', '', sentence)\n",
    "    # Rimuovere gli URL\n",
    "    sentence = re.sub(r'http\\S+|www\\S+|https\\S+', '', sentence, flags=re.MULTILINE)\n",
    "    # Rimuovere hashtag (#hashtag)\n",
    "    sentence = re.sub(r'#\\w+', '', sentence)\n",
    "    # Rimuovere i numeri\n",
    "    sentence = re.sub(r'\\d+', '', sentence)\n",
    "    # Rimuovere testo tra parentesi quadre o tonde\n",
    "    sentence = re.sub(r'\\[.*?\\]|\\(.*?\\)', '', sentence)\n",
    "    # Rimuovere caratteri di nuova linea e tabulazione\n",
    "    sentence = re.sub(r'\\n|\\r|\\t', ' ', sentence)\n",
    "    # Rimuovere spazi extra\n",
    "    sentence = re.sub(r'\\s+', ' ', sentence).strip()\n",
    "    # Rimuovere caratteri speciali\n",
    "    sentence = re.sub(r'[^\\w\\s]', '', sentence)\n",
    "    # Rimuovere tag HTML\n",
    "    sentence = re.sub(r'<.*?>', '', sentence)\n",
    "    # Rimuovere indirizzi email\n",
    "    sentence = re.sub(r'\\S+@\\S+', '', sentence)\n",
    "    return sentence\n",
    "\n",
    "# pipeline preprocessing\n",
    "\n",
    "def tokenize(text):\n",
    "    return nltk.word_tokenize(text)\n",
    "\n",
    "def clean_tokens(tokens):\n",
    "    stop_words = set(nltk.corpus.stopwords.words('english'))\n",
    "    return [token.lower() for token in tokens if token.isalnum() and token.lower() not in stop_words]\n",
    "\n",
    "def normalize(tokens):\n",
    "    return [token.lower() for token in tokens]\n",
    "\n",
    "def lemmatize(tokens):\n",
    "    lemmatizer = nltk.stem.WordNetLemmatizer()\n",
    "    return [lemmatizer.lemmatize(token) for token in tokens]\n",
    "\n",
    "def stem(tokens):\n",
    "    stemmer = nltk.stem.PorterStemmer()\n",
    "    return [stemmer.stem(token) for token in tokens]\n",
    "\n",
    "def nlp_pipeline(text):\n",
    "    tokens = tokenize(text)\n",
    "    tokens = clean_tokens(tokens)\n",
    "    tokens = normalize(tokens)\n",
    "    tokens = lemmatize(tokens)\n",
    "    tokens = stem(tokens)\n",
    "    return clean_text(' '.join(tokens))\n",
    "\n"
   ]
  },
  {
   "cell_type": "code",
   "execution_count": null,
   "metadata": {},
   "outputs": [],
   "source": [
    "# nlp pipeline\n",
    "df[\"text\"] = df[\"text\"].apply(lambda x: nlp_pipeline(x))"
   ]
  },
  {
   "cell_type": "code",
   "execution_count": null,
   "metadata": {},
   "outputs": [],
   "source": [
    "# print some information about the corpus\n",
    "print(\"Size of the corpus:\", len(list(df[\"text\"])))\n",
    "print(\"Size of the vocabulary:\", len(set(list(df[\"text\"]))))\n",
    "print(\"Lexical diversity:\", len(set(df[\"text\"])) / len(df[\"text\"]))"
   ]
  },
  {
   "cell_type": "code",
   "execution_count": null,
   "metadata": {},
   "outputs": [],
   "source": [
    "df['Nr. Tokens'] = df[\"text\"].apply(lambda x:len(str(x).split()))"
   ]
  },
  {
   "cell_type": "code",
   "execution_count": null,
   "metadata": {},
   "outputs": [],
   "source": [
    "df.head()"
   ]
  },
  {
   "cell_type": "markdown",
   "metadata": {},
   "source": [
    "3. FEATURE EXTRACTION"
   ]
  },
  {
   "cell_type": "code",
   "execution_count": null,
   "metadata": {},
   "outputs": [],
   "source": [
    "# TF-IDF\n",
    "\n",
    "# Vettore delle feature del testo\n",
    "X = list(df[\"text\"])\n",
    "\n",
    "# # vettore delle labels\n",
    "y = list(df[\"label_sexist\"])\n",
    "\n",
    "# Suddivisione del dataset\n",
    "X_train, X_test, y_train, y_test = train_test_split(X, y, test_size=0.2, random_state=42)\n",
    "\n",
    "# Estrazione delle caratteristiche con TF-IDF\n",
    "vectorizer = TfidfVectorizer()\n",
    "X_train = vectorizer.fit_transform(X_train)\n",
    "X_test = vectorizer.transform(X_test)\n",
    "\n"
   ]
  },
  {
   "cell_type": "markdown",
   "metadata": {},
   "source": [
    "5. MODEL DEFINITION"
   ]
  },
  {
   "cell_type": "code",
   "execution_count": null,
   "metadata": {},
   "outputs": [],
   "source": [
    "# Logistic Regression\n",
    "model = LogisticRegression()\n",
    "model.fit(X_train, y_train)\n"
   ]
  },
  {
   "cell_type": "markdown",
   "metadata": {},
   "source": [
    "6. EVALUATION AND METRICS"
   ]
  },
  {
   "cell_type": "code",
   "execution_count": null,
   "metadata": {},
   "outputs": [],
   "source": [
    "# evaluate the model using metrics\n",
    "\n",
    "# Predizioni sul set di test\n",
    "predictions = model.predict(X_test)\n",
    "\n",
    "# Valutazione del modello\n",
    "accuracy = accuracy_score(y_test, predictions)\n",
    "precision = precision_score(y_test, predictions, pos_label='sexist')\n",
    "recall = recall_score(y_test, predictions, pos_label='sexist')\n",
    "f1 = f1_score(y_test, predictions, pos_label='sexist')\n",
    "conf_matrix = confusion_matrix(y_test, predictions)\n",
    "\n",
    "print(f'Accuracy: {accuracy}')\n",
    "print(f'Precision: {precision}')\n",
    "print(f'Recall: {recall}')\n",
    "print(f'F1 Score: {f1}')\n",
    "print(f'Confusion Matrix:\\n{conf_matrix}')"
   ]
  }
 ],
 "metadata": {
  "kernelspec": {
   "display_name": "Python 3 (ipykernel)",
   "language": "python",
   "name": "python3"
  },
  "language_info": {
   "codemirror_mode": {
    "name": "ipython",
    "version": 3
   },
   "file_extension": ".py",
   "mimetype": "text/x-python",
   "name": "python",
   "nbconvert_exporter": "python",
   "pygments_lexer": "ipython3",
   "version": "3.12.3"
  }
 },
 "nbformat": 4,
 "nbformat_minor": 4
}
